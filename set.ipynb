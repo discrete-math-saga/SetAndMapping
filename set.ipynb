{
 "cells": [
  {
   "cell_type": "code",
   "execution_count": null,
   "metadata": {
    "tags": []
   },
   "outputs": [],
   "source": [
    "set1 = {'red', 'green', 'blue','orange'}\n",
    "set2 = {'red', 'yellow', 'orange', 'cyan'}\n",
    "print('集合の和：二つの表記がある')\n",
    "set3 = set1.union(set2)\n",
    "print(set3)\n",
    "set3 = set1 | set2\n",
    "print(set3)\n",
    "print('集合の共通部分：二つの表記がある')\n",
    "set4 = set1.intersection(set2)\n",
    "print(set4)\n",
    "set4 = set1 & set2\n",
    "print(set4)\n",
    "print('集合の排他的和')\n",
    "set6 = set1 ^ set2\n",
    "print(set6)\n",
    "print('集合の差')\n",
    "set6 = set2 - set1\n",
    "print(set6)"
   ]
  },
  {
   "cell_type": "code",
   "execution_count": null,
   "metadata": {},
   "outputs": [],
   "source": []
  }
 ],
 "metadata": {
  "kernelspec": {
   "display_name": "Python 3.7.1 64-bit",
   "name": "python37164bitc9b9905e32754272878684898efc3bad"
  },
  "language_info": {
   "codemirror_mode": {
    "name": "ipython",
    "version": 3
   },
   "file_extension": ".py",
   "mimetype": "text/x-python",
   "name": "python",
   "nbconvert_exporter": "python",
   "pygments_lexer": "ipython3",
   "version": "3.7.1-final"
  },
  "orig_nbformat": 2
 },
 "nbformat": 4,
 "nbformat_minor": 2
}
