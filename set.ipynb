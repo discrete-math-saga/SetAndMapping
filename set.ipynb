{
 "cells": [
  {
   "attachments": {},
   "cell_type": "markdown",
   "metadata": {},
   "source": [
    "# 集合の基本演算"
   ]
  },
  {
   "cell_type": "code",
   "execution_count": null,
   "metadata": {},
   "outputs": [],
   "source": [
    "set1 = {'red', 'green', 'blue','orange'}\n",
    "set2 = {'red', 'yellow', 'orange', 'cyan'}"
   ]
  },
  {
   "attachments": {},
   "cell_type": "markdown",
   "metadata": {},
   "source": [
    "## 集合の和\n",
    "$$ A \\cup B =\\left\\lbrace x\\mid x\\in A \\vee x\\in B\\right\\rbrace$$\n",
    "- `union()` を用いる\n",
    "- `|` を用いる"
   ]
  },
  {
   "cell_type": "code",
   "execution_count": null,
   "metadata": {},
   "outputs": [],
   "source": [
    "set3 = set1.union(set2)\n",
    "print(set3)\n",
    "set3 = set1 | set2\n",
    "print(set3)"
   ]
  },
  {
   "attachments": {},
   "cell_type": "markdown",
   "metadata": {},
   "source": [
    "## 集合の共通部分\n",
    "$$A\\cap B =\\left\\lbrace x\\mid x\\in A \\wedge x\\in B\\right\\rbrace$$\n",
    "- `intersection()` を用いる\n",
    "- `&` を用いる"
   ]
  },
  {
   "cell_type": "code",
   "execution_count": null,
   "metadata": {},
   "outputs": [],
   "source": [
    "set4 = set1.intersection(set2)\n",
    "print(set4)\n",
    "set4 = set1 & set2\n",
    "print(set4)"
   ]
  },
  {
   "attachments": {},
   "cell_type": "markdown",
   "metadata": {},
   "source": [
    "## 集合の排他的和\n",
    "$$ A \\oplus B =\\left\\lbrace x\\mid x\\in A\\cup B\\wedge x\\not\\in A\\cap B\\right\\rbrace$$\n",
    "- `^` を用いる"
   ]
  },
  {
   "cell_type": "code",
   "execution_count": null,
   "metadata": {},
   "outputs": [],
   "source": [
    "set6 = set1 ^ set2\n",
    "print(set6)"
   ]
  },
  {
   "attachments": {},
   "cell_type": "markdown",
   "metadata": {},
   "source": [
    "## 集合の差\n",
    "$$A\\setminus B = \\left\\lbrace x\\mid x\\in A\\wedge x\\not\\in B\\right\\rbrace$$\n",
    "- `-` を用いる"
   ]
  },
  {
   "cell_type": "code",
   "execution_count": null,
   "metadata": {
    "tags": []
   },
   "outputs": [],
   "source": [
    "set6 = set2 - set1\n",
    "print(set6)"
   ]
  }
 ],
 "metadata": {
  "kernelspec": {
   "display_name": "Python 3.9.7 ('myenv')",
   "language": "python",
   "name": "python3"
  },
  "language_info": {
   "codemirror_mode": {
    "name": "ipython",
    "version": 3
   },
   "file_extension": ".py",
   "mimetype": "text/x-python",
   "name": "python",
   "nbconvert_exporter": "python",
   "pygments_lexer": "ipython3",
   "version": "3.10.8"
  },
  "orig_nbformat": 2,
  "vscode": {
   "interpreter": {
    "hash": "5b50574aca822a4663eeb358827631e5cbe081f130521b0066dec6b864ef6f2f"
   }
  }
 },
 "nbformat": 4,
 "nbformat_minor": 2
}
