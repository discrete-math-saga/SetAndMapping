{
 "cells": [
  {
   "cell_type": "code",
   "execution_count": 3,
   "metadata": {
    "tags": []
   },
   "outputs": [
    {
     "output_type": "stream",
     "name": "stdout",
     "text": "集合の和：二つの表記がある\n{'cyan', 'yellow', 'blue', 'green', 'red', 'orange'}\n{'cyan', 'yellow', 'blue', 'green', 'red', 'orange'}\n集合の共通部分：二つの表記がある\n{'red', 'orange'}\n{'red', 'orange'}\n集合の排他的和\n{'cyan', 'yellow', 'blue', 'green'}\n集合の差\n{'cyan', 'yellow'}\n"
    }
   ],
   "source": [
    "set1 = {'red', 'green', 'blue','orange'}\n",
    "set2 = {'red', 'yellow', 'orange', 'cyan'}\n",
    "print('集合の和：二つの表記がある')\n",
    "set3 = set1.union(set2)\n",
    "print(set3)\n",
    "set3 = set1 | set2\n",
    "print(set3)\n",
    "print('集合の共通部分：二つの表記がある')\n",
    "set4 = set1.intersection(set2)\n",
    "print(set4)\n",
    "set4 = set1 & set2\n",
    "print(set4)\n",
    "print('集合の排他的和')\n",
    "set6 = set1 ^ set2\n",
    "print(set6)\n",
    "print('集合の差')\n",
    "set6 = set2 - set1\n",
    "print(set6)"
   ]
  },
  {
   "cell_type": "code",
   "execution_count": null,
   "metadata": {},
   "outputs": [],
   "source": []
  }
 ],
 "metadata": {
  "language_info": {
   "codemirror_mode": {
    "name": "ipython",
    "version": 3
   },
   "file_extension": ".py",
   "mimetype": "text/x-python",
   "name": "python",
   "nbconvert_exporter": "python",
   "pygments_lexer": "ipython3",
   "version": "3.7.1-final"
  },
  "orig_nbformat": 2,
  "kernelspec": {
   "name": "python37164bitc9b9905e32754272878684898efc3bad",
   "display_name": "Python 3.7.1 64-bit"
  }
 },
 "nbformat": 4,
 "nbformat_minor": 2
}