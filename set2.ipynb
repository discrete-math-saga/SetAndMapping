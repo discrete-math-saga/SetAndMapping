{
 "cells": [
  {
   "attachments": {},
   "cell_type": "markdown",
   "metadata": {},
   "source": [
    "# 補集合: Complement"
   ]
  },
  {
   "cell_type": "code",
   "execution_count": 10,
   "metadata": {
    "tags": []
   },
   "outputs": [],
   "source": [
    "U = set([x for x in range(1, 10)])\n",
    "A = set([x for x in U if x % 2 == 0])\n",
    "B = set([x for x in U if x % 3 == 0])"
   ]
  },
  {
   "attachments": {},
   "cell_type": "markdown",
   "metadata": {},
   "source": [
    "## $A$と$B$の補集合: Complements of $A$ and $B$ "
   ]
  },
  {
   "cell_type": "code",
   "execution_count": 11,
   "metadata": {},
   "outputs": [
    {
     "name": "stdout",
     "output_type": "stream",
     "text": [
      "{1, 3, 5, 7, 9}\n",
      "{1, 2, 4, 5, 7, 8}\n"
     ]
    }
   ],
   "source": [
    "A_bar: set[int] = U - A\n",
    "B_bar: set[int] = U - B\n",
    "\n",
    "print(A_bar)\n",
    "print(B_bar)"
   ]
  },
  {
   "attachments": {},
   "cell_type": "markdown",
   "metadata": {},
   "source": [
    "## Operations between sets"
   ]
  },
  {
   "cell_type": "code",
   "execution_count": 12,
   "metadata": {},
   "outputs": [
    {
     "name": "stdout",
     "output_type": "stream",
     "text": [
      "{1, 2, 3, 4, 5, 7, 8, 9}\n",
      "{1, 5, 7}\n",
      "{1, 2, 4, 5, 6, 7, 8}\n",
      "{8, 2, 4}\n"
     ]
    }
   ],
   "source": [
    "print(A_bar | B_bar)\n",
    "print(A_bar & B_bar)\n",
    "print(A | B_bar)\n",
    "print(A - B)"
   ]
  }
 ],
 "metadata": {
  "kernelspec": {
   "display_name": "myenv",
   "language": "python",
   "name": "python3"
  },
  "language_info": {
   "codemirror_mode": {
    "name": "ipython",
    "version": 3
   },
   "file_extension": ".py",
   "mimetype": "text/x-python",
   "name": "python",
   "nbconvert_exporter": "python",
   "pygments_lexer": "ipython3",
   "version": "3.10.8"
  },
  "orig_nbformat": 2
 },
 "nbformat": 4,
 "nbformat_minor": 2
}
