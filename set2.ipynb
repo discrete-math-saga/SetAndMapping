{
 "metadata": {
  "language_info": {
   "codemirror_mode": {
    "name": "ipython",
    "version": 3
   },
   "file_extension": ".py",
   "mimetype": "text/x-python",
   "name": "python",
   "nbconvert_exporter": "python",
   "pygments_lexer": "ipython3",
   "version": 3
  },
  "orig_nbformat": 2,
  "kernelspec": {
   "name": "python_defaultSpec_1597220810722",
   "display_name": "Python 3.7.8 64-bit"
  }
 },
 "nbformat": 4,
 "nbformat_minor": 2,
 "cells": [
  {
   "cell_type": "code",
   "execution_count": null,
   "metadata": {
    "tags": []
   },
   "outputs": [],
   "source": [
    "U = {1,2,3,4,5,6,7,8,9}\n",
    "A = {2,4,6,8}\n",
    "B = {3,6,9}\n",
    "\n",
    "Abar = U - A\n",
    "Bbar = U - B\n",
    "\n",
    "print(Abar)\n",
    "print(Bbar)\n",
    "print(Abar | Bbar)\n",
    "print(Abar & Bbar)\n",
    "print(A | Bbar)"
   ]
  },
  {
   "cell_type": "code",
   "execution_count": null,
   "metadata": {},
   "outputs": [],
   "source": []
  }
 ]
}