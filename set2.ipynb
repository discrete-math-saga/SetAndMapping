{
 "cells": [
  {
   "attachments": {},
   "cell_type": "markdown",
   "metadata": {},
   "source": [
    "# 補集合: Complement"
   ]
  },
  {
   "cell_type": "code",
   "execution_count": null,
   "metadata": {
    "tags": []
   },
   "outputs": [],
   "source": [
    "U = set([x for x in range(1, 10)])# 全体集合\n",
    "A = set([x for x in U if x % 2 == 0])\n",
    "B = set([x for x in U if x % 3 == 0])"
   ]
  },
  {
   "attachments": {},
   "cell_type": "markdown",
   "metadata": {},
   "source": [
    "## $A$と$B$の補集合: Complements of $A$ and $B$ \n",
    "$$\n",
    "\\begin{align}\n",
    "\\bar{A} &= \\{x \\mid x \\notin A\\wedge x\\in U\\} = U\\setminus A\\nonumber\\\\\n",
    "\\bar{B} &= \\{x \\mid x \\notin B\\wedge x\\in U\\} = U\\setminus B\\nonumber\n",
    "\\end{align}\n",
    "$$"
   ]
  },
  {
   "cell_type": "code",
   "execution_count": null,
   "metadata": {},
   "outputs": [],
   "source": [
    "A_bar: set[int] = U - A\n",
    "B_bar: set[int] = U - B\n",
    "\n",
    "print(A_bar)\n",
    "print(B_bar)"
   ]
  },
  {
   "attachments": {},
   "cell_type": "markdown",
   "metadata": {},
   "source": [
    "## Operations between sets"
   ]
  },
  {
   "cell_type": "code",
   "execution_count": null,
   "metadata": {},
   "outputs": [],
   "source": [
    "print(A_bar | B_bar)\n",
    "print(A_bar & B_bar)\n",
    "print(A | B_bar)\n",
    "print(A - B)"
   ]
  }
 ],
 "metadata": {
  "kernelspec": {
   "display_name": "myenv",
   "language": "python",
   "name": "python3"
  },
  "language_info": {
   "codemirror_mode": {
    "name": "ipython",
    "version": 3
   },
   "file_extension": ".py",
   "mimetype": "text/x-python",
   "name": "python",
   "nbconvert_exporter": "python",
   "pygments_lexer": "ipython3",
   "version": "3.10.8"
  },
  "orig_nbformat": 2
 },
 "nbformat": 4,
 "nbformat_minor": 2
}
