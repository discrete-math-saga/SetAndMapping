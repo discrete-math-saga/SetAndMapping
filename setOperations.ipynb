{
 "cells": [
  {
   "cell_type": "markdown",
   "metadata": {},
   "source": [
    "# 集合演算の基本的性質"
   ]
  },
  {
   "cell_type": "code",
   "execution_count": 8,
   "metadata": {},
   "outputs": [],
   "source": [
    "X: set[str] = {'orange', 'banana', 'apple', 'peach', 'grape'}\n",
    "Y: set[str] = {'apple', 'kiwi', 'banana', 'melon', 'mango'}\n",
    "Z: set[str] = {'strawberry', 'kiwi', 'banana', 'melon', 'litchi' }"
   ]
  },
  {
   "cell_type": "markdown",
   "metadata": {},
   "source": [
    "## 交換律と結合率\n",
    "$$\n",
    "\\begin{align*}\n",
    "X\\cup Y &= Y\\cup X \\\\\n",
    "X\\cap Y &= Y\\cap X \\\\\n",
    "X\\cup (Y\\cup Z) &= (X\\cup Y)\\cup Z \\\\\n",
    "X\\cap (Y\\cap Z) &= (X\\cap Y)\\cap Z\n",
    "\\end{align*}\n",
    "$$"
   ]
  },
  {
   "cell_type": "code",
   "execution_count": 9,
   "metadata": {},
   "outputs": [
    {
     "name": "stdout",
     "output_type": "stream",
     "text": [
      "Commutative Law\n",
      "X|Y = Y|Z: True\n",
      "X&Y = Y&Z: True\n",
      "---------------------------------\n",
      "Associative Law\n",
      "X|(Y|Z) = (X|Y)|Z: True\n",
      "X&(Y&Z) = (X&Y)&Z: True\n"
     ]
    }
   ],
   "source": [
    "print('Commutative Law')\n",
    "lhs = X|Y\n",
    "rhs = Y|X\n",
    "print(f'X|Y = Y|Z: {lhs == rhs}')\n",
    "\n",
    "lhs = X&Y\n",
    "rhs = Y&X\n",
    "print(f'X&Y = Y&Z: {lhs == rhs}')\n",
    "print('---------------------------------')\n",
    "print('Associative Law')\n",
    "lhs = X|(Y|Z)\n",
    "rhs = (X|Y)|Z\n",
    "print(f'X|(Y|Z) = (X|Y)|Z: {lhs == rhs}')\n",
    "lhs = X&(Y&Z)\n",
    "rhs = (X&Y)&Z\n",
    "print(f'X&(Y&Z) = (X&Y)&Z: {lhs == rhs}')\n"
   ]
  },
  {
   "cell_type": "markdown",
   "metadata": {},
   "source": [
    "## 分配律、巾等律、吸収律\n",
    "$$\n",
    "\\begin{align*}\n",
    "X\\cup (Y\\cap Z) &= (X\\cup Y)\\cap (X\\cup Z) \\\\\n",
    "X\\cap (Y\\cup Z) &= (X\\cap Y)\\cup (X\\cap Z) \\\\\n",
    "X\\cup X &= X \\\\\n",
    "X\\cap X &= X \\\\\n",
    "X\\cup (X\\cap Y) &= X \\\\\n",
    "X\\cap (X\\cup Y) &= X\n",
    "\\end{align*}\n",
    "$$"
   ]
  },
  {
   "cell_type": "code",
   "execution_count": 10,
   "metadata": {},
   "outputs": [
    {
     "name": "stdout",
     "output_type": "stream",
     "text": [
      "Distributive Law\n",
      "X|(Y&Z) = (X|Y)&(X|Z): True\n",
      "X&(Y|Z) = (X&Y)|(X&Z): True\n",
      "---------------------------------\n",
      "Idempotent Law\n",
      "X|X = X: True\n",
      "X&X = X: True\n",
      "---------------------------------\n",
      "Absorption Law\n",
      "X|(X&Y) = X: True\n",
      "X&(X|Y) = X: True\n"
     ]
    }
   ],
   "source": [
    "print('Distributive Law')\n",
    "lhs = X|(Y&Z)\n",
    "rhs = (X|Y)&(X|Z)\n",
    "print(f'X|(Y&Z) = (X|Y)&(X|Z): {lhs == rhs}')\n",
    "lhs = X&(Y|Z)\n",
    "rhs = (X&Y)|(X&Z)\n",
    "print(f'X&(Y|Z) = (X&Y)|(X&Z): {lhs == rhs}')\n",
    "print('---------------------------------')\n",
    "print('Idempotent Law')\n",
    "lhs = X|X\n",
    "rhs = X\n",
    "print(f'X|X = X: {lhs == rhs}')\n",
    "lhs = X&X\n",
    "rhs = X\n",
    "print(f'X&X = X: {lhs == rhs}')\n",
    "print('---------------------------------')\n",
    "print('Absorption Law')\n",
    "lhs = X|(X&Y)\n",
    "rhs = X\n",
    "print(f'X|(X&Y) = X: {lhs == rhs}')\n",
    "lhs = X&(X|Y)\n",
    "rhs = X\n",
    "print(f'X&(X|Y) = X: {lhs == rhs}')\n",
    "   \n"
   ]
  },
  {
   "cell_type": "markdown",
   "metadata": {},
   "source": [
    "## De Morgan's Law\n",
    "$$\n",
    "\\begin{align*}\n",
    "\\overline{X\\cup Y} &= \\overline{X}\\cap \\overline{Y} \\\\\n",
    "\\overline{X\\cap Y} &= \\overline{X}\\cup \\overline{Y}\n",
    "\\end{align*}\n",
    "$$"
   ]
  },
  {
   "cell_type": "code",
   "execution_count": 11,
   "metadata": {},
   "outputs": [
    {
     "name": "stdout",
     "output_type": "stream",
     "text": [
      "U-(X|Y) = (U-X)&(U-Y): True\n",
      "U-(X&Y) = (U-X)|(U-Y): True\n"
     ]
    }
   ],
   "source": [
    "U = X|Y|Z\n",
    "lhs = U-(X|Y)\n",
    "rhs = (U-X)&(U-Y)\n",
    "print(f'U-(X|Y) = (U-X)&(U-Y): {lhs == rhs}')\n",
    "lhs = U-(X&Y)\n",
    "rhs = (U-X)|(U-Y)\n",
    "print(f'U-(X&Y) = (U-X)|(U-Y): {lhs == rhs}')"
   ]
  }
 ],
 "metadata": {
  "kernelspec": {
   "display_name": "myenv",
   "language": "python",
   "name": "python3"
  },
  "language_info": {
   "codemirror_mode": {
    "name": "ipython",
    "version": 3
   },
   "file_extension": ".py",
   "mimetype": "text/x-python",
   "name": "python",
   "nbconvert_exporter": "python",
   "pygments_lexer": "ipython3",
   "version": "3.12.1"
  }
 },
 "nbformat": 4,
 "nbformat_minor": 2
}
